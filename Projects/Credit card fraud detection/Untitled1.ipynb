{
 "cells": [
  {
   "cell_type": "code",
   "execution_count": 7,
   "id": "ace07fa5-0078-4117-9f05-eacd36ef9f60",
   "metadata": {},
   "outputs": [
    {
     "name": "stdout",
     "output_type": "stream",
     "text": [
      "Synthetic credit card dataset generated.\n"
     ]
    }
   ],
   "source": [
    "import pandas as pd\n",
    "import numpy as np\n",
    "\n",
    "# Set random seed for reproducibility\n",
    "np.random.seed(42)\n",
    "\n",
    "# Number of samples to generate\n",
    "num_samples = 10\n",
    "\n",
    "# Generate random data for features (V1 to V28)\n",
    "data = pd.DataFrame(np.random.randn(num_samples, 28), columns=[f'V{i}' for i in range(1, 29)])\n",
    "\n",
    "# Add a feature for 'Amount'\n",
    "data['Amount'] = np.random.uniform(0, 2000, size=num_samples)\n",
    "\n",
    "# Generate a binary target variable 'Class' where 1 is fraud and 0 is non-fraud\n",
    "# Let's assume 5% of the transactions are fraudulent\n",
    "data['Class'] = np.random.choice([1], size=num_samples, p= [0)\n",
    "\n",
    "# Save to a CSV file\n",
    "data.to_csv('synthetic_creditcard1.csv', index=False)\n",
    "\n",
    "print(\"Synthetic credit card dataset generated.\")\n"
   ]
  },
  {
   "cell_type": "code",
   "execution_count": 3,
   "id": "1f6cd37d-b01b-43c6-8820-6d8b75c6c66b",
   "metadata": {},
   "outputs": [
    {
     "name": "stdout",
     "output_type": "stream",
     "text": [
      "Balanced synthetic credit card dataset generated.\n"
     ]
    }
   ],
   "source": [
    "import pandas as pd\n",
    "import numpy as np\n",
    "\n",
    "# Set random seed for reproducibility\n",
    "np.random.seed(42)\n",
    "\n",
    "# Number of samples to generate\n",
    "num_samples = 10\n",
    "\n",
    "# Generate random data for features (V1 to V28)\n",
    "data = pd.DataFrame(np.random.randn(num_samples, 28), columns=[f'V{i}' for i in range(1, 29)])\n",
    "\n",
    "# Add a feature for 'Amount'\n",
    "data['Amount'] = np.random.uniform(0, 2000, size=num_samples)\n",
    "\n",
    "# Create a balanced target variable 'Class' where 1 is fraud and 0 is non-fraud\n",
    "# Let's set 30% of the transactions as fraudulent to ensure the model has enough data to learn\n",
    "data['Class'] = np.random.choice([0, 1], size=num_samples, p=[0.7, 0.3])\n",
    "\n",
    "# Save to a CSV file\n",
    "data.to_csv('balanced_synthetic_creditcard1.csv', index=False)\n",
    "\n",
    "print(\"Balanced synthetic credit card dataset generated.\")\n"
   ]
  }
 ],
 "metadata": {
  "kernelspec": {
   "display_name": "Python 3 (ipykernel)",
   "language": "python",
   "name": "python3"
  },
  "language_info": {
   "codemirror_mode": {
    "name": "ipython",
    "version": 3
   },
   "file_extension": ".py",
   "mimetype": "text/x-python",
   "name": "python",
   "nbconvert_exporter": "python",
   "pygments_lexer": "ipython3",
   "version": "3.12.4"
  }
 },
 "nbformat": 4,
 "nbformat_minor": 5
}
